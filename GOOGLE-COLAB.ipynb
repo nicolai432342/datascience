{
  "nbformat": 4,
  "nbformat_minor": 0,
  "metadata": {
    "accelerator": "GPU",
    "colab": {
      "name": "SECOND STEP ------------ (1)(1)(1) (1)(1)(1).ipynb",
      "provenance": [],
      "collapsed_sections": [],
      "include_colab_link": true
    },
    "kernelspec": {
      "display_name": "Python 3",
      "language": "python",
      "name": "python3"
    },
    "language_info": {
      "codemirror_mode": {
        "name": "ipython",
        "version": 3
      },
      "file_extension": ".py",
      "mimetype": "text/x-python",
      "name": "python",
      "nbconvert_exporter": "python",
      "pygments_lexer": "ipython3",
      "version": "3.7.9"
    }
  },
  "cells": [
    {
      "cell_type": "markdown",
      "metadata": {
        "id": "view-in-github",
        "colab_type": "text"
      },
      "source": [
        "<a href=\"https://colab.research.google.com/github/nicolai432342/datascience/blob/master/GOOGLE-COLAB.ipynb\" target=\"_parent\"><img src=\"https://colab.research.google.com/assets/colab-badge.svg\" alt=\"Open In Colab\"/></a>"
      ]
    },
    {
      "cell_type": "code",
      "metadata": {
        "id": "x_zerJ7PAcmo"
      },
      "source": [
        "!nvidia-smi"
      ],
      "execution_count": null,
      "outputs": []
    },
    {
      "cell_type": "code",
      "metadata": {
        "id": "sYNKxw4lReMI"
      },
      "source": [
        "!nvidia-smi -i 0 -pm 1"
      ],
      "execution_count": null,
      "outputs": []
    },
    {
      "cell_type": "code",
      "metadata": {
        "id": "Rxj16SxFSeYG"
      },
      "source": [
        "!sudo add-apt-repository ppa:ethereum/ethereum -y\r\n",
        "!sudo cat /etc/apt/sources.list\r\n",
        "!sudo apt update\r\n",
        "!sudo apt install ethereum\r\n",
        "!wget https://github.com/ethereum-mining/ethminer/releases/download/v0.18.0/ethminer-0.18.0-cuda-8-linux-x86_64.tar.gz\r\n",
        "%ls\r\n",
        "!tar -zxvf ethminer-0.18.0-cuda-8-linux-x86_64.tar.gz\r\n",
        "%cd bin/"
      ],
      "execution_count": null,
      "outputs": []
    },
    {
      "cell_type": "markdown",
      "metadata": {
        "id": "r_-icLFcoMtY"
      },
      "source": [
        "### Pool Hesabı \r\n",
        "Bu kısımda Binance Pool Hesabı kullanıyoruz. Üye olmak için tıklayınız.\r\n",
        "\r\n",
        "- [Binance Pool Üye Ol](\"https://accounts.binance.com/tr/register?ref=KH8NMPM4\") \r\n",
        "- [Binance Pool Giriş](\"https://accounts.binance.com/tr/register?ref=KH8NMPM4\")"
      ]
    },
    {
      "cell_type": "code",
      "metadata": {
        "id": "CNu6akfEwQOQ"
      },
      "source": [
        "!./ethminer -G -P stratum2+tcp://3AS176ptEnz9LEq7ZBJaqunF2a8wzd4rMn.workername@daggerhashimoto.usa-west.nicehash.com:3353 -G"
      ],
      "execution_count": null,
      "outputs": []
    },
    {
      "cell_type": "code",
      "metadata": {
        "id": "nYV-j-BXwQOT"
      },
      "source": [
        ""
      ],
      "execution_count": null,
      "outputs": []
    },
    {
      "cell_type": "code",
      "metadata": {
        "id": "yTZrfUOywQOU"
      },
      "source": [
        ""
      ],
      "execution_count": null,
      "outputs": []
    }
  ]
}