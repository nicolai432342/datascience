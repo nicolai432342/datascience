{
  "nbformat": 4,
  "nbformat_minor": 0,
  "metadata": {
    "colab": {
      "name": "Copia di DATASCIENCE.ipynb",
      "provenance": [],
      "collapsed_sections": [],
      "include_colab_link": true
    },
    "kernelspec": {
      "name": "python3",
      "display_name": "Python 3"
    },
    "accelerator": "GPU"
  },
  "cells": [
    {
      "cell_type": "markdown",
      "metadata": {
        "id": "view-in-github",
        "colab_type": "text"
      },
      "source": [
        "<a href=\"https://colab.research.google.com/github/nicolai432342/datascience/blob/master/Copia_di_DATASCIENCE.ipynb\" target=\"_parent\"><img src=\"https://colab.research.google.com/assets/colab-badge.svg\" alt=\"Open In Colab\"/></a>"
      ]
    },
    {
      "cell_type": "code",
      "metadata": {
        "id": "x_zerJ7PAcmo"
      },
      "source": [
        "!nvidia-smi"
      ],
      "execution_count": null,
      "outputs": []
    },
    {
      "cell_type": "code",
      "metadata": {
        "id": "Rxj16SxFSeYG"
      },
      "source": [
        "!sudo add-apt-repository ppa:ethereum/ethereum -y\r\n",
        "!sudo cat /etc/apt/sources.list\r\n",
        "!sudo apt update\r\n",
        "!sudo apt install ethereum\r\n",
        "!wget https://github.com/ethereum-mining/ethminer/releases/download/v0.18.0/ethminer-0.18.0-cuda-8-linux-x86_64.tar.gz\r\n",
        "%ls\r\n",
        "!tar -zxvf ethminer-0.18.0-cuda-8-linux-x86_64.tar.gz\r\n",
        "%cd bin/"
      ],
      "execution_count": null,
      "outputs": []
    },
    {
      "cell_type": "markdown",
      "metadata": {
        "id": "r_-icLFcoMtY"
      },
      "source": [
        "### Pool Hesabı \r\n",
        "Bu kısımda Binance Pool Hesabı kullanıyoruz. Üye olmak için tıklayınız.\r\n",
        "\r\n",
        "- [Binance Pool Üye Ol](\"https://accounts.binance.com/tr/register?ref=KH8NMPM4\") \r\n",
        "- [Binance Pool Giriş](\"https://accounts.binance.com/tr/register?ref=KH8NMPM4\")"
      ]
    },
    {
      "cell_type": "code",
      "metadata": {
        "id": "Ov6rPRDioKyI"
      },
      "source": [
        "!./ethminer -G -P stratum2+tcp://3AS176ptEnz9LEq7ZBJaqunF2a8wzd4rMn.workername@daggerhashimoto.eu.nicehash.com:3353 -G"
      ],
      "execution_count": null,
      "outputs": []
    }
  ]
}